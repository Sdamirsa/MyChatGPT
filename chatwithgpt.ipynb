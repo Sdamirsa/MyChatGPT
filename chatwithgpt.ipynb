{
 "cells": [
  {
   "cell_type": "code",
   "execution_count": null,
   "metadata": {},
   "outputs": [],
   "source": []
  },
  {
   "cell_type": "code",
   "execution_count": 24,
   "metadata": {},
   "outputs": [
    {
     "name": "stdout",
     "output_type": "stream",
     "text": [
      "\"Use of the ClipMD model in daily gastroenterology practice could include automated interpretation and text summarization of abdominal ultrasound or MRI scans for diagnosing conditions like inflammatory bowel disease or liver cirrhosis.\"\n"
     ]
    }
   ],
   "source": [
    "Table_row=\"\"\"\n",
    "Fine-tuning data\tModel Name; Year\tBase model \tInput Modality\tOutput\tValidation \tExample GI use case \n",
    "\n",
    "2000 image-caption pairs; ROCO (X-ray, CT, MRI, ultrasound); MedICaT\tClipMD; 2023 (81)\tCLIP\tImage\tText\tImage-Text matching\n",
    "\"\"\"\n",
    "\n",
    "prompt=f\"\"\"I will provide a row of a table to you. \n",
    " This row is a summary of a peper related to use of foundational models in medicine.\n",
    " Read it and provide a breif, creative, and specific example of use case of this model in gastroenterology pracitce. \n",
    " This example should be related to gastroenterology and not the genral medicine. \n",
    " This example should faciliate daily decision of a gastroenterologist.\n",
    " Only provide the one sentence example in your output. \n",
    " \n",
    " Row info:\n",
    " \n",
    " {Table_row}\n",
    " \"\"\"\n",
    "\n",
    "from openai import OpenAI\n",
    "import os\n",
    "def gpt_stream(prompt, system_style=\"deafult\"):\n",
    "    style_dic={\n",
    "    \"deafult\": \"\"\"You are an expert in the field of conversation. You are expert python programmer and machien learning engineer. You are a medical expert.\n",
    "    Act as a helpful assistant. Be reliable on your answers. Provide orgnaized outputs. Take the best style matching the question regarding the content lentgh, style, and organizaiton.\n",
    "    \"\"\",\n",
    "    }\n",
    "\n",
    "    if system_style in [key for key in style_dic]:\n",
    "        system_prompt=style_dic[system_style]\n",
    "    else:\n",
    "        raise ValueError(\"Please define the sytle from the style_dic keys. The key you provided is not valid in the sytle_dic\")\n",
    "\n",
    "        \n",
    "    client = OpenAI(api_key=os.environ.get(\"OPENAI_API_KEY\"), organization=os.environ.get(\"OPENAI_API_ORG\"))\n",
    "    stream = client.chat.completions.create(\n",
    "        model=\"gpt-4\",\n",
    "        messages=[\n",
    "            {\"role\": \"system\", \"content\": system_prompt},\n",
    "            {\"role\": \"user\", \"content\": prompt}],\n",
    "        stream=True,\n",
    "    )\n",
    "    answer=\"\"\n",
    "    for chunk in stream:\n",
    "        if chunk.choices[0].delta.content is not None:\n",
    "            print(chunk.choices[0].delta.content, end=\"\")\n",
    "            answer=\" \".join([answer,chunk.choices[0].delta.content])\n",
    "\n",
    "    print()\n",
    "    return answer\n",
    "\n",
    "answer= gpt_stream(prompt, system_style=\"deafult\")"
   ]
  },
  {
   "cell_type": "code",
   "execution_count": 10,
   "metadata": {},
   "outputs": [
    {
     "data": {
      "text/plain": [
       "['deafult']"
      ]
     },
     "execution_count": 10,
     "metadata": {},
     "output_type": "execute_result"
    }
   ],
   "source": [
    "\n",
    "\n",
    "keysList = [key for key in style_dic]\n",
    "keysList"
   ]
  },
  {
   "cell_type": "code",
   "execution_count": 21,
   "metadata": {},
   "outputs": [
    {
     "data": {
      "text/plain": [
       "'\"Assisting in the Segmentation and Enumeration of Polyps\"'"
      ]
     },
     "execution_count": 21,
     "metadata": {},
     "output_type": "execute_result"
    }
   ],
   "source": [
    "prompt=\"\"\"\n",
    "Improve this: Aiding in segmentation and counting polyps\n",
    "\n",
    "\"\"\"\n",
    "\n",
    "from openai import OpenAI\n",
    "import os\n",
    "\n",
    "def gpt_text(prompt,system_style=\"deafult\"):\n",
    "    style_dic={\n",
    "    \"deafult\": \"\"\"You are an expert in the field of conversation. You are expert python programmer and machien learning engineer. You are a medical expert.\n",
    "    Act as a helpful assistant. Be reliable on your answers. Provide orgnaized outputs. Take the best style matching the question regarding the content lentgh, style, and organizaiton.\n",
    "    \"\"\",\n",
    "    }\n",
    "\n",
    "    if system_style in [key for key in style_dic]:\n",
    "        system_prompt=style_dic[system_style]\n",
    "    else:\n",
    "        raise ValueError(\"Please define the sytle from the style_dic keys. The key you provided is not valid in the sytle_dic\")\n",
    "\n",
    "\n",
    "    client = OpenAI(api_key=os.environ.get(\"OPENAI_API_KEY\"), organization=os.environ.get(\"OPENAI_API_ORG\"))\n",
    "    completion  = client.chat.completions.create(\n",
    "        model=\"gpt-4\",\n",
    "        messages=[\n",
    "            {\"role\": \"system\", \"content\": system_prompt},\n",
    "            {\"role\": \"user\", \"content\": prompt},\n",
    "        ],\n",
    "        )\n",
    "\n",
    "    return completion.choices[0].message.content\n",
    "\n",
    "\n",
    "a= gpt_text(prompt=prompt)\n",
    "a"
   ]
  },
  {
   "cell_type": "code",
   "execution_count": null,
   "metadata": {},
   "outputs": [],
   "source": [
    "print(a)"
   ]
  }
 ],
 "metadata": {
  "kernelspec": {
   "display_name": "base",
   "language": "python",
   "name": "python3"
  },
  "language_info": {
   "codemirror_mode": {
    "name": "ipython",
    "version": 3
   },
   "file_extension": ".py",
   "mimetype": "text/x-python",
   "name": "python",
   "nbconvert_exporter": "python",
   "pygments_lexer": "ipython3",
   "version": "3.8.5"
  }
 },
 "nbformat": 4,
 "nbformat_minor": 2
}
