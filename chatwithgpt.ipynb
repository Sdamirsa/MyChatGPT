{
 "cells": [
  {
   "cell_type": "code",
   "execution_count": null,
   "metadata": {},
   "outputs": [],
   "source": [
    "from openai import OpenAI\n",
    "import os\n",
    "\n",
    "def gpt_stream(prompt):\n",
    "    client = OpenAI(api_key=os.environ.get(\"OPENAI_API_KEY\"), organization=os.environ.get(\"OPENAI_API_ORG\"))\n",
    "\n",
    "\n",
    "\n",
    "    stream = client.chat.completions.create(\n",
    "        model=\"gpt-4\",\n",
    "        messages=[{\"role\": \"user\", \"content\": prompt}],\n",
    "        stream=True,\n",
    "    )\n",
    "    answer=\"\"\n",
    "    for chunk in stream:\n",
    "        if chunk.choices[0].delta.content is not None:\n",
    "            print(chunk.choices[0].delta.content, end=\"\")\n",
    "            answer=\" \".join([answer,chunk.choices[0].delta.content])\n",
    "\n",
    "    print()\n",
    "    return answer\n",
    "\n",
    "\n",
    "prompt=\"Search web for \"\n",
    "answer= gpt_stream(prompt)"
   ]
  },
  {
   "cell_type": "code",
   "execution_count": null,
   "metadata": {},
   "outputs": [],
   "source": [
    "prompt=\"\"\"\n",
    "Troubelshoot this python code: \n",
    "def gpt_stream(prompt):\n",
    "    client = OpenAI(api_key=os.environ.get(\"OPENAI_API_KEY\"), organization=os.environ.get(\"OPENAI_API_ORG\"))\n",
    "\n",
    "\n",
    "\n",
    "    stream = client.chat.completions.create(\n",
    "        model=\"gpt-4\",\n",
    "        messages=[{\"role\": \"user\", \"content\": prompt}],\n",
    "        stream=True,\n",
    "    )\n",
    "    answer=\"\"\n",
    "    for chunk in stream:\n",
    "        if chunk.choices[0].delta.content is not None:\n",
    "            print(chunk.choices[0].delta.content, end=\"\")\n",
    "            \" \".join([answer,chunk.choices[0].delta.content])\n",
    "\n",
    "    print()\n",
    "    return answer\n",
    "\n",
    "\"\"\"\n",
    "\n",
    "from openai import OpenAI\n",
    "import os\n",
    "\n",
    "def gpt_text(prompt):\n",
    "    client = OpenAI(api_key=os.environ.get(\"OPENAI_API_KEY\"), organization=os.environ.get(\"OPENAI_API_ORG\"))\n",
    "    completion  = client.chat.completions.create(\n",
    "    model=\"gpt-4\",\n",
    "    messages=[\n",
    "        #{\"role\": \"system\", \"content\": \"You are a helpful assistant.\"},\n",
    "        {\"role\": \"user\", \"content\": prompt},\n",
    "    ],\n",
    "    )\n",
    "\n",
    "    return completion.choices[0].message.content\n",
    "\n",
    "\n",
    "a= gpt_text(prompt=prompt)\n",
    "a"
   ]
  },
  {
   "cell_type": "code",
   "execution_count": null,
   "metadata": {},
   "outputs": [],
   "source": [
    "print(a)"
   ]
  }
 ],
 "metadata": {
  "kernelspec": {
   "display_name": "base",
   "language": "python",
   "name": "python3"
  },
  "language_info": {
   "codemirror_mode": {
    "name": "ipython",
    "version": 3
   },
   "file_extension": ".py",
   "mimetype": "text/x-python",
   "name": "python",
   "nbconvert_exporter": "python",
   "pygments_lexer": "ipython3",
   "version": "3.8.5"
  }
 },
 "nbformat": 4,
 "nbformat_minor": 2
}
